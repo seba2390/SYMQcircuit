{
 "cells": [
  {
   "cell_type": "code",
   "execution_count": 8,
   "metadata": {
    "collapsed": true,
    "ExecuteTime": {
     "start_time": "2023-07-31T11:22:27.939563Z",
     "end_time": "2023-07-31T11:22:27.942402Z"
    }
   },
   "outputs": [],
   "source": [
    "from qiskit import *\n",
    "import numpy as np"
   ]
  },
  {
   "cell_type": "code",
   "execution_count": 11,
   "outputs": [
    {
     "data": {
      "text/plain": "       ┌─────────┐  ┌────────────┐                                »\nq_0: ──┤ P(π/28) ├──┤ P(0.14428) ├──■──────────────────────────■──»\n     ┌─┴─────────┴─┐└────────────┘┌─┴─┐┌────────────────────┐┌─┴─┐»\nq_1: ┤ P(0.097386) ├──────────────┤ X ├┤ U(-π/6,0,-0.14428) ├┤ X ├»\n     └─────────────┘              └───┘└────────────────────┘└───┘»\nq_2: ─────────────────────────────────────────────────────────────»\n                                                                  »\n«                      \n«q_0: ─────────────────\n«     ┌───────────────┐\n«q_1: ┤ U(π/6,π/67,0) ├\n«     └───────────────┘\n«q_2: ─────────────────\n«                      ",
      "text/html": "<pre style=\"word-wrap: normal;white-space: pre;background: #fff0;line-height: 1.1;font-family: &quot;Courier New&quot;,Courier,monospace\">       ┌─────────┐  ┌────────────┐                                »\nq_0: ──┤ P(π/28) ├──┤ P(0.14428) ├──■──────────────────────────■──»\n     ┌─┴─────────┴─┐└────────────┘┌─┴─┐┌────────────────────┐┌─┴─┐»\nq_1: ┤ P(0.097386) ├──────────────┤ X ├┤ U(-π/6,0,-0.14428) ├┤ X ├»\n     └─────────────┘              └───┘└────────────────────┘└───┘»\nq_2: ─────────────────────────────────────────────────────────────»\n                                                                  »\n«                      \n«q_0: ─────────────────\n«     ┌───────────────┐\n«q_1: ┤ U(π/6,π/67,0) ├\n«     └───────────────┘\n«q_2: ─────────────────\n«                      </pre>"
     },
     "execution_count": 11,
     "metadata": {},
     "output_type": "execute_result"
    }
   ],
   "source": [
    "size = 3\n",
    "circ = QuantumCircuit(size)\n",
    "circ.cu(theta=np.pi/3,phi=np.pi/67,lam=np.pi/13,gamma=np.pi/28,control_qubit=0,target_qubit=1)\n",
    "circ.decompose().draw()\n"
   ],
   "metadata": {
    "collapsed": false,
    "ExecuteTime": {
     "start_time": "2023-07-31T11:23:48.689475Z",
     "end_time": "2023-07-31T11:23:48.691902Z"
    }
   }
  },
  {
   "cell_type": "code",
   "execution_count": 27,
   "outputs": [
    {
     "data": {
      "text/plain": "0.0615"
     },
     "execution_count": 27,
     "metadata": {},
     "output_type": "execute_result"
    }
   ],
   "source": [
    "0.123 /2"
   ],
   "metadata": {
    "collapsed": false,
    "ExecuteTime": {
     "start_time": "2023-07-30T11:37:31.193347Z",
     "end_time": "2023-07-30T11:37:31.202390Z"
    }
   }
  },
  {
   "cell_type": "code",
   "execution_count": null,
   "outputs": [],
   "source": [],
   "metadata": {
    "collapsed": false
   }
  }
 ],
 "metadata": {
  "kernelspec": {
   "display_name": "Python 3",
   "language": "python",
   "name": "python3"
  },
  "language_info": {
   "codemirror_mode": {
    "name": "ipython",
    "version": 2
   },
   "file_extension": ".py",
   "mimetype": "text/x-python",
   "name": "python",
   "nbconvert_exporter": "python",
   "pygments_lexer": "ipython2",
   "version": "2.7.6"
  }
 },
 "nbformat": 4,
 "nbformat_minor": 0
}
