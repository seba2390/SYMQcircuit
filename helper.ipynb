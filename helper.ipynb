{
 "cells": [
  {
   "cell_type": "code",
   "execution_count": 7,
   "metadata": {
    "collapsed": true,
    "ExecuteTime": {
     "start_time": "2023-07-30T10:52:28.348768Z",
     "end_time": "2023-07-30T10:52:28.353618Z"
    }
   },
   "outputs": [],
   "source": [
    "from qiskit import *"
   ]
  },
  {
   "cell_type": "code",
   "execution_count": 28,
   "outputs": [
    {
     "data": {
      "text/plain": "                                                  \nq_0: ───────────────────■──────────────────────■──\n                        │                      │  \nq_1: ───────────────────┼──────────────────────┼──\n     ┌───────────────┐┌─┴─┐┌────────────────┐┌─┴─┐\nq_2: ┤ R(0.0615,π/2) ├┤ X ├┤ R(-0.0615,π/2) ├┤ X ├\n     └───────────────┘└───┘└────────────────┘└───┘",
      "text/html": "<pre style=\"word-wrap: normal;white-space: pre;background: #fff0;line-height: 1.1;font-family: &quot;Courier New&quot;,Courier,monospace\">                                                  \nq_0: ───────────────────■──────────────────────■──\n                        │                      │  \nq_1: ───────────────────┼──────────────────────┼──\n     ┌───────────────┐┌─┴─┐┌────────────────┐┌─┴─┐\nq_2: ┤ R(0.0615,π/2) ├┤ X ├┤ R(-0.0615,π/2) ├┤ X ├\n     └───────────────┘└───┘└────────────────┘└───┘</pre>"
     },
     "execution_count": 28,
     "metadata": {},
     "output_type": "execute_result"
    }
   ],
   "source": [
    "size = 3\n",
    "circ = QuantumCircuit(size)\n",
    "circ.cry(0.123,0,2)\n",
    "circ.decompose().decompose().draw()\n"
   ],
   "metadata": {
    "collapsed": false,
    "ExecuteTime": {
     "start_time": "2023-07-30T11:38:02.007301Z",
     "end_time": "2023-07-30T11:38:02.010422Z"
    }
   }
  },
  {
   "cell_type": "code",
   "execution_count": 27,
   "outputs": [
    {
     "data": {
      "text/plain": "0.0615"
     },
     "execution_count": 27,
     "metadata": {},
     "output_type": "execute_result"
    }
   ],
   "source": [
    "0.123 /2"
   ],
   "metadata": {
    "collapsed": false,
    "ExecuteTime": {
     "start_time": "2023-07-30T11:37:31.193347Z",
     "end_time": "2023-07-30T11:37:31.202390Z"
    }
   }
  },
  {
   "cell_type": "code",
   "execution_count": null,
   "outputs": [],
   "source": [],
   "metadata": {
    "collapsed": false
   }
  }
 ],
 "metadata": {
  "kernelspec": {
   "display_name": "Python 3",
   "language": "python",
   "name": "python3"
  },
  "language_info": {
   "codemirror_mode": {
    "name": "ipython",
    "version": 2
   },
   "file_extension": ".py",
   "mimetype": "text/x-python",
   "name": "python",
   "nbconvert_exporter": "python",
   "pygments_lexer": "ipython2",
   "version": "2.7.6"
  }
 },
 "nbformat": 4,
 "nbformat_minor": 0
}
