{
 "cells": [
  {
   "cell_type": "code",
   "execution_count": 2,
   "metadata": {
    "collapsed": true,
    "ExecuteTime": {
     "start_time": "2023-07-31T11:05:10.649692Z",
     "end_time": "2023-07-31T11:05:10.876115Z"
    }
   },
   "outputs": [],
   "source": [
    "from qiskit import *"
   ]
  },
  {
   "cell_type": "code",
   "execution_count": 4,
   "outputs": [
    {
     "data": {
      "text/plain": "                                                                  \nq_0: ─────────────■───────────────────────■───────────────────────\n                  │                       │                       \nq_1: ─────────────┼───────────────────────┼───────────────────────\n     ┌─────────┐┌─┴─┐┌─────────────────┐┌─┴─┐┌───────────────────┐\nq_2: ┤ U1(π/2) ├┤ X ├┤ U3(-0.0615,0,0) ├┤ X ├┤ U3(0.0615,-π/2,0) ├\n     └─────────┘└───┘└─────────────────┘└───┘└───────────────────┘",
      "text/html": "<pre style=\"word-wrap: normal;white-space: pre;background: #fff0;line-height: 1.1;font-family: &quot;Courier New&quot;,Courier,monospace\">                                                                  \nq_0: ─────────────■───────────────────────■───────────────────────\n                  │                       │                       \nq_1: ─────────────┼───────────────────────┼───────────────────────\n     ┌─────────┐┌─┴─┐┌─────────────────┐┌─┴─┐┌───────────────────┐\nq_2: ┤ U1(π/2) ├┤ X ├┤ U3(-0.0615,0,0) ├┤ X ├┤ U3(0.0615,-π/2,0) ├\n     └─────────┘└───┘└─────────────────┘└───┘└───────────────────┘</pre>"
     },
     "execution_count": 4,
     "metadata": {},
     "output_type": "execute_result"
    }
   ],
   "source": [
    "size = 3\n",
    "circ = QuantumCircuit(size)\n",
    "circ.crx(0.123,0,2)\n",
    "circ.decompose().draw()\n"
   ],
   "metadata": {
    "collapsed": false,
    "ExecuteTime": {
     "start_time": "2023-07-31T11:05:58.075441Z",
     "end_time": "2023-07-31T11:05:58.078498Z"
    }
   }
  },
  {
   "cell_type": "code",
   "execution_count": 27,
   "outputs": [
    {
     "data": {
      "text/plain": "0.0615"
     },
     "execution_count": 27,
     "metadata": {},
     "output_type": "execute_result"
    }
   ],
   "source": [
    "0.123 /2"
   ],
   "metadata": {
    "collapsed": false,
    "ExecuteTime": {
     "start_time": "2023-07-30T11:37:31.193347Z",
     "end_time": "2023-07-30T11:37:31.202390Z"
    }
   }
  },
  {
   "cell_type": "code",
   "execution_count": null,
   "outputs": [],
   "source": [],
   "metadata": {
    "collapsed": false
   }
  }
 ],
 "metadata": {
  "kernelspec": {
   "display_name": "Python 3",
   "language": "python",
   "name": "python3"
  },
  "language_info": {
   "codemirror_mode": {
    "name": "ipython",
    "version": 2
   },
   "file_extension": ".py",
   "mimetype": "text/x-python",
   "name": "python",
   "nbconvert_exporter": "python",
   "pygments_lexer": "ipython2",
   "version": "2.7.6"
  }
 },
 "nbformat": 4,
 "nbformat_minor": 0
}
