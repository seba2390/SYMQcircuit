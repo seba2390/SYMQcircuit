{
 "cells": [
  {
   "cell_type": "code",
   "execution_count": 1,
   "metadata": {
    "collapsed": true,
    "ExecuteTime": {
     "start_time": "2023-07-29T23:21:01.743463Z",
     "end_time": "2023-07-29T23:21:01.987410Z"
    }
   },
   "outputs": [],
   "source": [
    "from qiskit import *"
   ]
  },
  {
   "cell_type": "code",
   "execution_count": 8,
   "outputs": [
    {
     "data": {
      "text/plain": "     ┌─────────┐                     ┌──────────┐\nq_0: ┤ Rx(π/2) ├──■───────────────■──┤ Rx(-π/2) ├\n     └─────────┘  │               │  └──────────┘\nq_1: ─────────────┼───────────────┼──────────────\n     ┌─────────┐┌─┴─┐┌─────────┐┌─┴─┐┌──────────┐\nq_2: ┤ Rx(π/2) ├┤ X ├┤ Rz(1.2) ├┤ X ├┤ Rx(-π/2) ├\n     └─────────┘└───┘└─────────┘└───┘└──────────┘",
      "text/html": "<pre style=\"word-wrap: normal;white-space: pre;background: #fff0;line-height: 1.1;font-family: &quot;Courier New&quot;,Courier,monospace\">     ┌─────────┐                     ┌──────────┐\nq_0: ┤ Rx(π/2) ├──■───────────────■──┤ Rx(-π/2) ├\n     └─────────┘  │               │  └──────────┘\nq_1: ─────────────┼───────────────┼──────────────\n     ┌─────────┐┌─┴─┐┌─────────┐┌─┴─┐┌──────────┐\nq_2: ┤ Rx(π/2) ├┤ X ├┤ Rz(1.2) ├┤ X ├┤ Rx(-π/2) ├\n     └─────────┘└───┘└─────────┘└───┘└──────────┘</pre>"
     },
     "execution_count": 8,
     "metadata": {},
     "output_type": "execute_result"
    }
   ],
   "source": [
    "size = 3\n",
    "circ = QuantumCircuit(size)\n",
    "circ.ryy(theta=1.2,qubit1=0,qubit2=2)\n",
    "circ.decompose().draw()\n"
   ],
   "metadata": {
    "collapsed": false,
    "ExecuteTime": {
     "start_time": "2023-07-29T23:28:52.937695Z",
     "end_time": "2023-07-29T23:28:52.942483Z"
    }
   }
  },
  {
   "cell_type": "code",
   "execution_count": 2,
   "outputs": [],
   "source": [],
   "metadata": {
    "collapsed": false,
    "ExecuteTime": {
     "start_time": "2023-07-29T23:21:02.023600Z",
     "end_time": "2023-07-29T23:21:02.025189Z"
    }
   }
  }
 ],
 "metadata": {
  "kernelspec": {
   "display_name": "Python 3",
   "language": "python",
   "name": "python3"
  },
  "language_info": {
   "codemirror_mode": {
    "name": "ipython",
    "version": 2
   },
   "file_extension": ".py",
   "mimetype": "text/x-python",
   "name": "python",
   "nbconvert_exporter": "python",
   "pygments_lexer": "ipython2",
   "version": "2.7.6"
  }
 },
 "nbformat": 4,
 "nbformat_minor": 0
}
