{
 "cells": [
  {
   "cell_type": "code",
   "execution_count": 7,
   "metadata": {
    "collapsed": true,
    "ExecuteTime": {
     "start_time": "2023-07-30T10:52:28.348768Z",
     "end_time": "2023-07-30T10:52:28.353618Z"
    }
   },
   "outputs": [],
   "source": [
    "from qiskit import *"
   ]
  },
  {
   "cell_type": "code",
   "execution_count": 12,
   "outputs": [
    {
     "data": {
      "text/plain": "                             \nq_0: ──■──────────────────■──\n       │                  │  \nq_1: ──┼──────────────────┼──\n     ┌─┴─┐┌────────────┐┌─┴─┐\nq_2: ┤ X ├┤ Rz(0.1322) ├┤ X ├\n     └───┘└────────────┘└───┘",
      "text/html": "<pre style=\"word-wrap: normal;white-space: pre;background: #fff0;line-height: 1.1;font-family: &quot;Courier New&quot;,Courier,monospace\">                             \nq_0: ──■──────────────────■──\n       │                  │  \nq_1: ──┼──────────────────┼──\n     ┌─┴─┐┌────────────┐┌─┴─┐\nq_2: ┤ X ├┤ Rz(0.1322) ├┤ X ├\n     └───┘└────────────┘└───┘</pre>"
     },
     "execution_count": 12,
     "metadata": {},
     "output_type": "execute_result"
    }
   ],
   "source": [
    "size = 3\n",
    "circ = QuantumCircuit(size)\n",
    "circ.rzz(0.1322,0,2)\n",
    "circ.decompose().draw()\n"
   ],
   "metadata": {
    "collapsed": false,
    "ExecuteTime": {
     "start_time": "2023-07-30T11:19:25.508615Z",
     "end_time": "2023-07-30T11:19:25.513034Z"
    }
   }
  },
  {
   "cell_type": "code",
   "execution_count": 2,
   "outputs": [],
   "source": [],
   "metadata": {
    "collapsed": false,
    "ExecuteTime": {
     "start_time": "2023-07-29T23:21:02.023600Z",
     "end_time": "2023-07-29T23:21:02.025189Z"
    }
   }
  }
 ],
 "metadata": {
  "kernelspec": {
   "display_name": "Python 3",
   "language": "python",
   "name": "python3"
  },
  "language_info": {
   "codemirror_mode": {
    "name": "ipython",
    "version": 2
   },
   "file_extension": ".py",
   "mimetype": "text/x-python",
   "name": "python",
   "nbconvert_exporter": "python",
   "pygments_lexer": "ipython2",
   "version": "2.7.6"
  }
 },
 "nbformat": 4,
 "nbformat_minor": 0
}
