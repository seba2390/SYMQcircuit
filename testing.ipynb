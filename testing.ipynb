{
 "cells": [
  {
   "cell_type": "code",
   "execution_count": 12,
   "metadata": {
    "collapsed": true,
    "ExecuteTime": {
     "start_time": "2023-07-27T23:06:18.522745Z",
     "end_time": "2023-07-27T23:06:18.527285Z"
    }
   },
   "outputs": [],
   "source": [
    "import qiskit.quantum_info\n",
    "from qiskit import *\n",
    "import qiskit\n",
    "\n",
    "from my_class import *"
   ]
  },
  {
   "cell_type": "code",
   "execution_count": 13,
   "outputs": [
    {
     "name": "stdout",
     "output_type": "stream",
     "text": [
      "True\n"
     ]
    }
   ],
   "source": [
    "nr = 1\n",
    "size = 10\n",
    "\n",
    "\n",
    "test = QuantumCircuit(size)\n",
    "test.x(nr)\n",
    "b = qiskit.quantum_info.Operator(test).data\n",
    "\n",
    "test2 = MyQuantumCircuit(size)\n",
    "test2.add_x(nr)\n",
    "a = test2.get_circuit_unitary()\n",
    "print(np.allclose(a,b))"
   ],
   "metadata": {
    "collapsed": false,
    "ExecuteTime": {
     "start_time": "2023-07-27T23:06:18.528064Z",
     "end_time": "2023-07-27T23:06:18.667304Z"
    }
   }
  },
  {
   "cell_type": "code",
   "execution_count": 14,
   "outputs": [
    {
     "name": "stdout",
     "output_type": "stream",
     "text": [
      "True\n"
     ]
    }
   ],
   "source": [
    "test = QuantumCircuit(size)\n",
    "test.y(nr)\n",
    "b = qiskit.quantum_info.Operator(test).data\n",
    "\n",
    "test2 = MyQuantumCircuit(size)\n",
    "test2.add_y(nr)\n",
    "a = test2.get_circuit_unitary()\n",
    "print(np.allclose(a,b))"
   ],
   "metadata": {
    "collapsed": false,
    "ExecuteTime": {
     "start_time": "2023-07-27T23:06:18.668217Z",
     "end_time": "2023-07-27T23:06:18.795967Z"
    }
   }
  },
  {
   "cell_type": "code",
   "execution_count": 15,
   "outputs": [
    {
     "name": "stdout",
     "output_type": "stream",
     "text": [
      "True\n"
     ]
    }
   ],
   "source": [
    "test = QuantumCircuit(size)\n",
    "test.z(nr)\n",
    "b = qiskit.quantum_info.Operator(test).data\n",
    "\n",
    "test2 = MyQuantumCircuit(size)\n",
    "test2.add_z(nr)\n",
    "a = test2.get_circuit_unitary()\n",
    "print(np.allclose(a,b))"
   ],
   "metadata": {
    "collapsed": false,
    "ExecuteTime": {
     "start_time": "2023-07-27T23:06:18.798770Z",
     "end_time": "2023-07-27T23:06:18.934337Z"
    }
   }
  },
  {
   "cell_type": "code",
   "execution_count": 16,
   "outputs": [
    {
     "name": "stdout",
     "output_type": "stream",
     "text": [
      "True\n"
     ]
    }
   ],
   "source": [
    "test = QuantumCircuit(size)\n",
    "test.h(nr)\n",
    "b = qiskit.quantum_info.Operator(test).data\n",
    "\n",
    "test2 = MyQuantumCircuit(size)\n",
    "test2.add_h(nr)\n",
    "a = test2.get_circuit_unitary()\n",
    "print(np.allclose(a,b))"
   ],
   "metadata": {
    "collapsed": false,
    "ExecuteTime": {
     "start_time": "2023-07-27T23:06:18.942050Z",
     "end_time": "2023-07-27T23:06:19.065305Z"
    }
   }
  },
  {
   "cell_type": "code",
   "execution_count": 17,
   "outputs": [
    {
     "name": "stdout",
     "output_type": "stream",
     "text": [
      "True\n"
     ]
    }
   ],
   "source": [
    "test = QuantumCircuit(size)\n",
    "test.rx(1/3,nr)\n",
    "b = qiskit.quantum_info.Operator(test).data\n",
    "\n",
    "test2 = MyQuantumCircuit(size)\n",
    "test2.add_rx(nr,1/3)\n",
    "a = test2.get_circuit_unitary()\n",
    "print(np.allclose(a,b))"
   ],
   "metadata": {
    "collapsed": false,
    "ExecuteTime": {
     "start_time": "2023-07-27T23:06:19.065999Z",
     "end_time": "2023-07-27T23:06:19.190361Z"
    }
   }
  },
  {
   "cell_type": "code",
   "execution_count": 18,
   "outputs": [
    {
     "name": "stdout",
     "output_type": "stream",
     "text": [
      "True\n"
     ]
    }
   ],
   "source": [
    "test = QuantumCircuit(size)\n",
    "test.ry(1/3,nr)\n",
    "b = qiskit.quantum_info.Operator(test).data\n",
    "\n",
    "test2 = MyQuantumCircuit(size)\n",
    "test2.add_ry(nr,1/3)\n",
    "a = test2.get_circuit_unitary()\n",
    "print(np.allclose(a,b))"
   ],
   "metadata": {
    "collapsed": false,
    "ExecuteTime": {
     "start_time": "2023-07-27T23:06:19.191761Z",
     "end_time": "2023-07-27T23:06:19.315826Z"
    }
   }
  },
  {
   "cell_type": "code",
   "execution_count": 19,
   "outputs": [
    {
     "name": "stdout",
     "output_type": "stream",
     "text": [
      "True\n"
     ]
    }
   ],
   "source": [
    "test = QuantumCircuit(size)\n",
    "test.rz(1/3,nr)\n",
    "b = qiskit.quantum_info.Operator(test).data\n",
    "\n",
    "test2 = MyQuantumCircuit(size)\n",
    "test2.add_rz(nr,1/3)\n",
    "a = test2.get_circuit_unitary()\n",
    "print(np.allclose(a,b))"
   ],
   "metadata": {
    "collapsed": false,
    "ExecuteTime": {
     "start_time": "2023-07-27T23:06:19.316843Z",
     "end_time": "2023-07-27T23:06:19.438189Z"
    }
   }
  },
  {
   "cell_type": "code",
   "execution_count": 20,
   "outputs": [
    {
     "name": "stdout",
     "output_type": "stream",
     "text": [
      "True\n"
     ]
    }
   ],
   "source": [
    "test = QuantumCircuit(size)\n",
    "test.rz(1/3,nr)\n",
    "test.ry(2/3,nr)\n",
    "test.ry(4/3,nr)\n",
    "test.x(nr)\n",
    "test.h(nr)\n",
    "test.rx(2/7,nr)\n",
    "b = qiskit.quantum_info.Operator(test).data\n",
    "\n",
    "test2 = MyQuantumCircuit(size)\n",
    "test2.add_rz(nr,1/3)\n",
    "test2.add_ry(nr,2/3)\n",
    "test2.add_ry(nr,4/3)\n",
    "test2.add_x(nr)\n",
    "test2.add_h(nr)\n",
    "test2.add_rx(nr,2/7)\n",
    "a = test2.get_circuit_unitary()\n",
    "print(np.allclose(a,b))"
   ],
   "metadata": {
    "collapsed": false,
    "ExecuteTime": {
     "start_time": "2023-07-27T23:06:19.450255Z",
     "end_time": "2023-07-27T23:06:20.144195Z"
    }
   }
  }
 ],
 "metadata": {
  "kernelspec": {
   "display_name": "Python 3",
   "language": "python",
   "name": "python3"
  },
  "language_info": {
   "codemirror_mode": {
    "name": "ipython",
    "version": 2
   },
   "file_extension": ".py",
   "mimetype": "text/x-python",
   "name": "python",
   "nbconvert_exporter": "python",
   "pygments_lexer": "ipython2",
   "version": "2.7.6"
  }
 },
 "nbformat": 4,
 "nbformat_minor": 0
}
