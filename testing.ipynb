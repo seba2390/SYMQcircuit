{
 "cells": [
  {
   "cell_type": "code",
   "execution_count": 1,
   "metadata": {
    "collapsed": true,
    "ExecuteTime": {
     "start_time": "2023-07-27T23:37:17.562837Z",
     "end_time": "2023-07-27T23:37:17.815814Z"
    }
   },
   "outputs": [],
   "source": [
    "import qiskit.quantum_info\n",
    "from qiskit import *\n",
    "import qiskit\n",
    "\n",
    "from SYMQCircuit import *"
   ]
  },
  {
   "cell_type": "code",
   "execution_count": 2,
   "outputs": [
    {
     "name": "stdout",
     "output_type": "stream",
     "text": [
      "True\n"
     ]
    }
   ],
   "source": [
    "nr = 1\n",
    "size = 10\n",
    "\n",
    "\n",
    "test = QuantumCircuit(size)\n",
    "test.x(nr)\n",
    "b = qiskit.quantum_info.Operator(test).data\n",
    "\n",
    "test2 = SYMQCircuit(size)\n",
    "test2.add_x(nr)\n",
    "a = test2.get_circuit_unitary()\n",
    "print(np.allclose(a,b))"
   ],
   "metadata": {
    "collapsed": false,
    "ExecuteTime": {
     "start_time": "2023-07-27T23:37:17.841611Z",
     "end_time": "2023-07-27T23:37:18.023365Z"
    }
   }
  },
  {
   "cell_type": "code",
   "execution_count": 3,
   "outputs": [
    {
     "name": "stdout",
     "output_type": "stream",
     "text": [
      "True\n"
     ]
    }
   ],
   "source": [
    "test = QuantumCircuit(size)\n",
    "test.y(nr)\n",
    "b = qiskit.quantum_info.Operator(test).data\n",
    "\n",
    "test2 = SYMQCircuit(size)\n",
    "test2.add_y(nr)\n",
    "a = test2.get_circuit_unitary()\n",
    "print(np.allclose(a,b))"
   ],
   "metadata": {
    "collapsed": false,
    "ExecuteTime": {
     "start_time": "2023-07-27T23:37:18.029731Z",
     "end_time": "2023-07-27T23:37:18.153761Z"
    }
   }
  },
  {
   "cell_type": "code",
   "execution_count": 4,
   "outputs": [
    {
     "name": "stdout",
     "output_type": "stream",
     "text": [
      "True\n"
     ]
    }
   ],
   "source": [
    "test = QuantumCircuit(size)\n",
    "test.z(nr)\n",
    "b = qiskit.quantum_info.Operator(test).data\n",
    "\n",
    "test2 = SYMQCircuit(size)\n",
    "test2.add_z(nr)\n",
    "a = test2.get_circuit_unitary()\n",
    "print(np.allclose(a,b))"
   ],
   "metadata": {
    "collapsed": false,
    "ExecuteTime": {
     "start_time": "2023-07-27T23:37:18.151989Z",
     "end_time": "2023-07-27T23:37:18.292507Z"
    }
   }
  },
  {
   "cell_type": "code",
   "execution_count": 5,
   "outputs": [
    {
     "name": "stdout",
     "output_type": "stream",
     "text": [
      "True\n"
     ]
    }
   ],
   "source": [
    "test = QuantumCircuit(size)\n",
    "test.h(nr)\n",
    "b = qiskit.quantum_info.Operator(test).data\n",
    "\n",
    "test2 = SYMQCircuit(size)\n",
    "test2.add_h(nr)\n",
    "a = test2.get_circuit_unitary()\n",
    "print(np.allclose(a,b))"
   ],
   "metadata": {
    "collapsed": false,
    "ExecuteTime": {
     "start_time": "2023-07-27T23:37:18.318291Z",
     "end_time": "2023-07-27T23:37:18.443818Z"
    }
   }
  },
  {
   "cell_type": "code",
   "execution_count": 6,
   "outputs": [
    {
     "name": "stdout",
     "output_type": "stream",
     "text": [
      "True\n"
     ]
    }
   ],
   "source": [
    "test = QuantumCircuit(size)\n",
    "test.rx(1/3,nr)\n",
    "b = qiskit.quantum_info.Operator(test).data\n",
    "\n",
    "test2 = SYMQCircuit(size)\n",
    "test2.add_rx(nr,1/3)\n",
    "a = test2.get_circuit_unitary()\n",
    "print(np.allclose(a,b))"
   ],
   "metadata": {
    "collapsed": false,
    "ExecuteTime": {
     "start_time": "2023-07-27T23:37:18.455836Z",
     "end_time": "2023-07-27T23:37:18.600097Z"
    }
   }
  },
  {
   "cell_type": "code",
   "execution_count": 7,
   "outputs": [
    {
     "name": "stdout",
     "output_type": "stream",
     "text": [
      "True\n"
     ]
    }
   ],
   "source": [
    "test = QuantumCircuit(size)\n",
    "test.ry(1/3,nr)\n",
    "b = qiskit.quantum_info.Operator(test).data\n",
    "\n",
    "test2 = SYMQCircuit(size)\n",
    "test2.add_ry(nr,1/3)\n",
    "a = test2.get_circuit_unitary()\n",
    "print(np.allclose(a,b))"
   ],
   "metadata": {
    "collapsed": false,
    "ExecuteTime": {
     "start_time": "2023-07-27T23:37:18.601463Z",
     "end_time": "2023-07-27T23:37:18.742185Z"
    }
   }
  },
  {
   "cell_type": "code",
   "execution_count": 8,
   "outputs": [
    {
     "name": "stdout",
     "output_type": "stream",
     "text": [
      "True\n"
     ]
    }
   ],
   "source": [
    "test = QuantumCircuit(size)\n",
    "test.rz(1/3,nr)\n",
    "b = qiskit.quantum_info.Operator(test).data\n",
    "\n",
    "test2 = SYMQCircuit(size)\n",
    "test2.add_rz(nr,1/3)\n",
    "a = test2.get_circuit_unitary()\n",
    "print(np.allclose(a,b))"
   ],
   "metadata": {
    "collapsed": false,
    "ExecuteTime": {
     "start_time": "2023-07-27T23:37:18.744652Z",
     "end_time": "2023-07-27T23:37:18.874879Z"
    }
   }
  },
  {
   "cell_type": "code",
   "execution_count": 9,
   "outputs": [
    {
     "name": "stdout",
     "output_type": "stream",
     "text": [
      "True\n"
     ]
    }
   ],
   "source": [
    "test = QuantumCircuit(size)\n",
    "test.rz(1/3,nr)\n",
    "test.ry(2/3,nr)\n",
    "test.ry(4/3,nr)\n",
    "test.x(nr)\n",
    "test.h(nr)\n",
    "test.rx(2/7,nr)\n",
    "b = qiskit.quantum_info.Operator(test).data\n",
    "\n",
    "test2 = SYMQCircuit(size)\n",
    "test2.add_rz(nr,1/3)\n",
    "test2.add_ry(nr,2/3)\n",
    "test2.add_ry(nr,4/3)\n",
    "test2.add_x(nr)\n",
    "test2.add_h(nr)\n",
    "test2.add_rx(nr,2/7)\n",
    "a = test2.get_circuit_unitary()\n",
    "print(np.allclose(a,b))"
   ],
   "metadata": {
    "collapsed": false,
    "ExecuteTime": {
     "start_time": "2023-07-27T23:37:18.880249Z",
     "end_time": "2023-07-27T23:37:19.547934Z"
    }
   }
  }
 ],
 "metadata": {
  "kernelspec": {
   "display_name": "Python 3",
   "language": "python",
   "name": "python3"
  },
  "language_info": {
   "codemirror_mode": {
    "name": "ipython",
    "version": 2
   },
   "file_extension": ".py",
   "mimetype": "text/x-python",
   "name": "python",
   "nbconvert_exporter": "python",
   "pygments_lexer": "ipython2",
   "version": "2.7.6"
  }
 },
 "nbformat": 4,
 "nbformat_minor": 0
}
