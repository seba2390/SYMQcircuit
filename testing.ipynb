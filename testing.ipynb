{
 "cells": [
  {
   "cell_type": "code",
   "execution_count": 1,
   "metadata": {
    "collapsed": true,
    "ExecuteTime": {
     "start_time": "2023-07-27T23:42:46.233788Z",
     "end_time": "2023-07-27T23:42:46.502403Z"
    }
   },
   "outputs": [],
   "source": [
    "import qiskit.quantum_info\n",
    "from qiskit import *\n",
    "import qiskit\n",
    "\n",
    "from SYMQCircuit import *"
   ]
  },
  {
   "cell_type": "code",
   "execution_count": 11,
   "outputs": [
    {
     "name": "stdout",
     "output_type": "stream",
     "text": [
      "[[1.+0.j 0.+0.j 0.+0.j 0.+0.j]\n",
      " [0.+0.j 0.+0.j 0.+0.j 1.+0.j]\n",
      " [0.+0.j 0.+0.j 1.+0.j 0.+0.j]\n",
      " [0.+0.j 1.+0.j 0.+0.j 0.+0.j]]\n"
     ]
    }
   ],
   "source": [
    "nr = 1\n",
    "size = 2\n",
    "\n",
    "test = QuantumCircuit(size)\n",
    "test.cnot(control_qubit=0,target_qubit=1)\n",
    "b = qiskit.quantum_info.Operator(test).data\n",
    "print(b)\n",
    "test2 = SYMQCircuit(size)\n",
    "#a = test2.get_circuit_unitary()\n",
    "#print(np.allclose(a,b))\n"
   ],
   "metadata": {
    "collapsed": false,
    "ExecuteTime": {
     "start_time": "2023-07-27T23:45:11.365743Z",
     "end_time": "2023-07-27T23:45:11.369194Z"
    }
   }
  },
  {
   "cell_type": "markdown",
   "source": [
    "# Testing 1 qubit gates:"
   ],
   "metadata": {
    "collapsed": false
   }
  },
  {
   "cell_type": "code",
   "execution_count": 2,
   "outputs": [
    {
     "name": "stdout",
     "output_type": "stream",
     "text": [
      "True\n"
     ]
    }
   ],
   "source": [
    "\n",
    "\n",
    "test = QuantumCircuit(size)\n",
    "test.x(nr)\n",
    "b = qiskit.quantum_info.Operator(test).data\n",
    "\n",
    "test2 = SYMQCircuit(size)\n",
    "test2.add_x(nr)\n",
    "a = test2.get_circuit_unitary()\n",
    "print(np.allclose(a,b))"
   ],
   "metadata": {
    "collapsed": false,
    "ExecuteTime": {
     "start_time": "2023-07-27T23:42:46.514507Z",
     "end_time": "2023-07-27T23:42:46.517260Z"
    }
   }
  },
  {
   "cell_type": "code",
   "execution_count": 3,
   "outputs": [
    {
     "name": "stdout",
     "output_type": "stream",
     "text": [
      "True\n"
     ]
    }
   ],
   "source": [
    "test = QuantumCircuit(size)\n",
    "test.y(nr)\n",
    "b = qiskit.quantum_info.Operator(test).data\n",
    "\n",
    "test2 = SYMQCircuit(size)\n",
    "test2.add_y(nr)\n",
    "a = test2.get_circuit_unitary()\n",
    "print(np.allclose(a,b))"
   ],
   "metadata": {
    "collapsed": false,
    "ExecuteTime": {
     "start_time": "2023-07-27T23:42:46.519088Z",
     "end_time": "2023-07-27T23:42:46.521290Z"
    }
   }
  },
  {
   "cell_type": "code",
   "execution_count": 4,
   "outputs": [
    {
     "name": "stdout",
     "output_type": "stream",
     "text": [
      "True\n"
     ]
    }
   ],
   "source": [
    "test = QuantumCircuit(size)\n",
    "test.z(nr)\n",
    "b = qiskit.quantum_info.Operator(test).data\n",
    "\n",
    "test2 = SYMQCircuit(size)\n",
    "test2.add_z(nr)\n",
    "a = test2.get_circuit_unitary()\n",
    "print(np.allclose(a,b))"
   ],
   "metadata": {
    "collapsed": false,
    "ExecuteTime": {
     "start_time": "2023-07-27T23:42:46.522287Z",
     "end_time": "2023-07-27T23:42:46.524809Z"
    }
   }
  },
  {
   "cell_type": "code",
   "execution_count": 5,
   "outputs": [
    {
     "name": "stdout",
     "output_type": "stream",
     "text": [
      "True\n"
     ]
    }
   ],
   "source": [
    "test = QuantumCircuit(size)\n",
    "test.h(nr)\n",
    "b = qiskit.quantum_info.Operator(test).data\n",
    "\n",
    "test2 = SYMQCircuit(size)\n",
    "test2.add_h(nr)\n",
    "a = test2.get_circuit_unitary()\n",
    "print(np.allclose(a,b))"
   ],
   "metadata": {
    "collapsed": false,
    "ExecuteTime": {
     "start_time": "2023-07-27T23:42:46.526912Z",
     "end_time": "2023-07-27T23:42:46.542419Z"
    }
   }
  },
  {
   "cell_type": "code",
   "execution_count": 6,
   "outputs": [
    {
     "name": "stdout",
     "output_type": "stream",
     "text": [
      "True\n"
     ]
    }
   ],
   "source": [
    "test = QuantumCircuit(size)\n",
    "test.rx(1/3,nr)\n",
    "b = qiskit.quantum_info.Operator(test).data\n",
    "\n",
    "test2 = SYMQCircuit(size)\n",
    "test2.add_rx(nr,1/3)\n",
    "a = test2.get_circuit_unitary()\n",
    "print(np.allclose(a,b))"
   ],
   "metadata": {
    "collapsed": false,
    "ExecuteTime": {
     "start_time": "2023-07-27T23:42:46.531244Z",
     "end_time": "2023-07-27T23:42:46.542592Z"
    }
   }
  },
  {
   "cell_type": "code",
   "execution_count": 7,
   "outputs": [
    {
     "name": "stdout",
     "output_type": "stream",
     "text": [
      "True\n"
     ]
    }
   ],
   "source": [
    "test = QuantumCircuit(size)\n",
    "test.ry(1/3,nr)\n",
    "b = qiskit.quantum_info.Operator(test).data\n",
    "\n",
    "test2 = SYMQCircuit(size)\n",
    "test2.add_ry(nr,1/3)\n",
    "a = test2.get_circuit_unitary()\n",
    "print(np.allclose(a,b))"
   ],
   "metadata": {
    "collapsed": false,
    "ExecuteTime": {
     "start_time": "2023-07-27T23:42:46.534995Z",
     "end_time": "2023-07-27T23:42:46.542664Z"
    }
   }
  },
  {
   "cell_type": "code",
   "execution_count": 8,
   "outputs": [
    {
     "name": "stdout",
     "output_type": "stream",
     "text": [
      "True\n"
     ]
    }
   ],
   "source": [
    "test = QuantumCircuit(size)\n",
    "test.rz(1/3,nr)\n",
    "b = qiskit.quantum_info.Operator(test).data\n",
    "\n",
    "test2 = SYMQCircuit(size)\n",
    "test2.add_rz(nr,1/3)\n",
    "a = test2.get_circuit_unitary()\n",
    "print(np.allclose(a,b))"
   ],
   "metadata": {
    "collapsed": false,
    "ExecuteTime": {
     "start_time": "2023-07-27T23:42:46.538525Z",
     "end_time": "2023-07-27T23:42:46.542706Z"
    }
   }
  },
  {
   "cell_type": "code",
   "execution_count": 9,
   "outputs": [
    {
     "name": "stdout",
     "output_type": "stream",
     "text": [
      "True\n"
     ]
    }
   ],
   "source": [
    "test = QuantumCircuit(size)\n",
    "test.rz(1/3,nr)\n",
    "test.ry(2/3,nr)\n",
    "test.ry(4/3,nr)\n",
    "test.x(nr)\n",
    "test.h(nr)\n",
    "test.rx(2/7,nr)\n",
    "b = qiskit.quantum_info.Operator(test).data\n",
    "\n",
    "test2 = SYMQCircuit(size)\n",
    "test2.add_rz(nr,1/3)\n",
    "test2.add_ry(nr,2/3)\n",
    "test2.add_ry(nr,4/3)\n",
    "test2.add_x(nr)\n",
    "test2.add_h(nr)\n",
    "test2.add_rx(nr,2/7)\n",
    "a = test2.get_circuit_unitary()\n",
    "print(np.allclose(a,b))"
   ],
   "metadata": {
    "collapsed": false,
    "ExecuteTime": {
     "start_time": "2023-07-27T23:42:46.542695Z",
     "end_time": "2023-07-27T23:42:46.546532Z"
    }
   }
  }
 ],
 "metadata": {
  "kernelspec": {
   "display_name": "Python 3",
   "language": "python",
   "name": "python3"
  },
  "language_info": {
   "codemirror_mode": {
    "name": "ipython",
    "version": 2
   },
   "file_extension": ".py",
   "mimetype": "text/x-python",
   "name": "python",
   "nbconvert_exporter": "python",
   "pygments_lexer": "ipython2",
   "version": "2.7.6"
  }
 },
 "nbformat": 4,
 "nbformat_minor": 0
}
