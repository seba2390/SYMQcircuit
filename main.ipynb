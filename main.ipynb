{
 "cells": [
  {
   "cell_type": "code",
   "execution_count": 19,
   "outputs": [],
   "source": [
    "import time\n",
    "\n",
    "import numpy as np\n",
    "\n",
    "from SYMQCircuit import *\n",
    "from SYMQState import *\n",
    "from Tools import *"
   ],
   "metadata": {
    "collapsed": false,
    "ExecuteTime": {
     "end_time": "2023-08-10T19:55:32.028850Z",
     "start_time": "2023-08-10T19:55:32.026535Z"
    }
   }
  },
  {
   "cell_type": "code",
   "execution_count": 20,
   "outputs": [],
   "source": [
    "_N_QUBITS_ = 10\n",
    "\n",
    "## Creates circuits individually \n",
    "circuit1 = SYMQCircuit(nr_qubits=_N_QUBITS_,precision=64)\n",
    "circuit1.add_cnot(target_qubit=2,control_qubit=4)\n",
    "circuit1.add_rx(target_qubit=9,angle=9.32)\n",
    "\n",
    "circuit2 = SYMQCircuit(nr_qubits=_N_QUBITS_,precision=64)\n",
    "circuit2.add_x(1)\n",
    "circuit2.add_h(2)\n",
    "\n",
    "## Composes circuits by operator overloading + \n",
    "circuit3 = circuit1+circuit2\n",
    "\n",
    "## The circuit that corresponds to the above \n",
    "circuit4 = SYMQCircuit(nr_qubits=_N_QUBITS_,precision=64)\n",
    "circuit4.add_cnot(target_qubit=2,control_qubit=4)\n",
    "circuit4.add_rx(target_qubit=9,angle=9.32)\n",
    "circuit4.add_x(1)\n",
    "circuit4.add_h(2)"
   ],
   "metadata": {
    "collapsed": false,
    "ExecuteTime": {
     "end_time": "2023-08-10T19:55:32.053834Z",
     "start_time": "2023-08-10T19:55:32.033025Z"
    }
   }
  },
  {
   "cell_type": "code",
   "execution_count": 22,
   "outputs": [],
   "source": [],
   "metadata": {
    "collapsed": false,
    "ExecuteTime": {
     "end_time": "2023-08-10T19:55:32.125995Z",
     "start_time": "2023-08-10T19:55:32.112055Z"
    }
   }
  }
 ],
 "metadata": {
  "kernelspec": {
   "display_name": "Python 3",
   "language": "python",
   "name": "python3"
  },
  "language_info": {
   "codemirror_mode": {
    "name": "ipython",
    "version": 2
   },
   "file_extension": ".py",
   "mimetype": "text/x-python",
   "name": "python",
   "nbconvert_exporter": "python",
   "pygments_lexer": "ipython2",
   "version": "2.7.6"
  }
 },
 "nbformat": 4,
 "nbformat_minor": 0
}
